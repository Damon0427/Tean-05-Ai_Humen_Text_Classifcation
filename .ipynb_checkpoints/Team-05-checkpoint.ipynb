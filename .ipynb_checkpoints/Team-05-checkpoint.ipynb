{
 "cells": [
  {
   "cell_type": "raw",
   "id": "098cd079-fe6f-432b-8cd3-e8168047bf4a",
   "metadata": {},
   "source": [
    "Course: CSC671-02 \n",
    "Team Number：05\n",
    "Members:\n",
    "Jung Hyun Song \n",
    "Jeremy Woodling\n",
    "Zicheng Tan "
   ]
  },
  {
   "cell_type": "code",
   "execution_count": 1,
   "id": "8b8547ab-0bcd-45b4-b0e8-84eb462fbbc9",
   "metadata": {},
   "outputs": [],
   "source": [
    "import pandas as pd\n",
    "import string\n",
    "import tensorflow as tf\n",
    "from sklearn.model_selection import train_test_split\n",
    "from tensorflow.keras.preprocessing.text import Tokenizer\n",
    "from tensorflow.keras.preprocessing.sequence import pad_sequences\n",
    "from tensorflow.keras.models import Sequential\n",
    "from tensorflow.keras.layers import Embedding, LSTM, Dense\n",
    "from tensorflow.keras.optimizers import Adam\n",
    "import nltk\n",
    "from nltk.corpus import stopwords\n",
    "from nltk.tokenize import word_tokenize"
   ]
  },
  {
   "cell_type": "code",
   "execution_count": 2,
   "id": "225274f3-d27e-4f51-8e8c-e94160ed82b4",
   "metadata": {},
   "outputs": [
    {
     "name": "stdout",
     "output_type": "stream",
     "text": [
      "Cars. Cars have been around since they became famous in the 1900s, when Henry Ford created and built the first ModelT. Cars have played a major role in our every day lives since then. But now, people are starting to question if limiting car usage would be a good thing. To me, limiting the use of cars might be a good thing to do.\n",
      "\n",
      "In like matter of this, article, \"In German Suburb, Life Goes On Without Cars,\" by Elizabeth Rosenthal states, how automobiles are the linchpin of suburbs, where middle class families from either Shanghai or Chicago tend to make their homes. Experts say how this is a huge impediment to current efforts to reduce greenhouse gas emissions from tailpipe. Passenger cars are responsible for 12 percent of greenhouse gas emissions in Europe...and up to 50 percent in some carintensive areas in the United States. Cars are the main reason for the greenhouse gas emissions because of a lot of people driving them around all the time getting where they need to go. Article, \"Paris bans driving due to smog,\" by Robert Duffer says, how Paris, after days of nearrecord pollution, enforced a partial driving ban to clear the air of the global city. It also says, how on Monday, motorist with evennumbered license plates were ordered to leave their cars at home or be fined a 22euro fine 31. The same order would be applied to oddnumbered plates the following day. Cars are the reason for polluting entire cities like Paris. This shows how bad cars can be because, of all the pollution that they can cause to an entire city.\n",
      "\n",
      "Likewise, in the article, \"Carfree day is spinning into a big hit in Bogota,\" by Andrew Selsky says, how programs that's set to spread to other countries, millions of Columbians hiked, biked, skated, or took the bus to work during a carfree day, leaving streets of this capital city eerily devoid of traffic jams. It was the third straight year cars have been banned with only buses and taxis permitted for the Day Without Cars in the capital city of 7 million. People like the idea of having carfree days because, it allows them to lesson the pollution that cars put out of their exhaust from people driving all the time. The article also tells how parks and sports centers have bustled throughout the city uneven, pitted sidewalks have been replaced by broad, smooth sidewalks rushhour restrictions have dramatically cut traffic and new restaurants and upscale shopping districts have cropped up. Having no cars has been good for the country of Columbia because, it has aloud them to repair things that have needed repairs for a long time, traffic jams have gone down, and restaurants and shopping districts have popped up, all due to the fact of having less cars around.\n",
      "\n",
      "In conclusion, the use of less cars and having carfree days, have had a big impact on the environment of cities because, it is cutting down the air pollution that the cars have majorly polluted, it has aloud countries like Columbia to repair sidewalks, and cut down traffic jams. Limiting the use of cars would be a good thing for America. So we should limit the use of cars by maybe riding a bike, or maybe walking somewhere that isn't that far from you and doesn't need the use of a car to get you there. To me, limiting the use of cars might be a good thing to do.\n",
      "generated\n",
      "0.0    305797\n",
      "1.0    181438\n",
      "Name: count, dtype: int64\n"
     ]
    },
    {
     "data": {
      "text/plain": [
       "<Axes: >"
      ]
     },
     "execution_count": 2,
     "metadata": {},
     "output_type": "execute_result"
    },
    {
     "data": {
      "image/png": "[encoded data removed]",
      "text/plain": [
       "<Figure size 640x480 with 1 Axes>"
      ]
     },
     "metadata": {},
     "output_type": "display_data"
    }
   ],
   "source": [
    "df = pd.read_csv('./AI_Human.csv')\n",
    "print(df['text'][0])    \n",
    "print(df['generated'].value_counts())\n",
    "df['generated'].hist()"
   ]
  },
  {
   "cell_type": "code",
   "execution_count": 3,
   "id": "949f7ea6-838c-4296-ac87-1ec8b0d663f4",
   "metadata": {},
   "outputs": [],
   "source": [
    "## function use to phase the text and padding sequences number from text\n",
    "\n",
    "def remove_punctuation_and_stop_words(text):\n",
    "    cleaned_text = str.maketrans('', '', string.punctuation)\n",
    "    text = text.translate(cleaned_text)\n",
    "    stop_words = set(stopwords.words('english'))\n",
    "    word_tokens = word_tokenize(text)\n",
    "    filtered_words = [word for word in word_tokens if word.lower() not in stop_words]  \n",
    "    filtered_words= ' '.join(filtered_words)\n",
    "    return filtered_words\n",
    "\n",
    "def pad_sequences_function(text):\n",
    "    sequences = tokenizer.texts_to_sequences(text)\n",
    "    output = pad_sequences(sequences, padding='post', maxlen = max_words)\n",
    "    return output"
   ]
  },
  {
   "cell_type": "code",
   "execution_count": null,
   "id": "ef96d038-cbfc-4c1b-ba4e-ff81449fd948",
   "metadata": {
    "scrolled": true
   },
   "outputs": [
    {
     "name": "stdout",
     "output_type": "stream",
     "text": [
      "['i', 'me', 'my', 'myself', 'we', 'our', 'ours', 'ourselves', 'you', \"you're\", \"you've\", \"you'll\", \"you'd\", 'your', 'yours', 'yourself', 'yourselves', 'he', 'him', 'his', 'himself', 'she', \"she's\", 'her', 'hers', 'herself', 'it', \"it's\", 'its', 'itself', 'they', 'them', 'their', 'theirs', 'themselves', 'what', 'which', 'who', 'whom', 'this', 'that', \"that'll\", 'these', 'those', 'am', 'is', 'are', 'was', 'were', 'be', 'been', 'being', 'have', 'has', 'had', 'having', 'do', 'does', 'did', 'doing', 'a', 'an', 'the', 'and', 'but', 'if', 'or', 'because', 'as', 'until', 'while', 'of', 'at', 'by', 'for', 'with', 'about', 'against', 'between', 'into', 'through', 'during', 'before', 'after', 'above', 'below', 'to', 'from', 'up', 'down', 'in', 'out', 'on', 'off', 'over', 'under', 'again', 'further', 'then', 'once', 'here', 'there', 'when', 'where', 'why', 'how', 'all', 'any', 'both', 'each', 'few', 'more', 'most', 'other', 'some', 'such', 'no', 'nor', 'not', 'only', 'own', 'same', 'so', 'than', 'too', 'very', 's', 't', 'can', 'will', 'just', 'don', \"don't\", 'should', \"should've\", 'now', 'd', 'll', 'm', 'o', 're', 've', 'y', 'ain', 'aren', \"aren't\", 'couldn', \"couldn't\", 'didn', \"didn't\", 'doesn', \"doesn't\", 'hadn', \"hadn't\", 'hasn', \"hasn't\", 'haven', \"haven't\", 'isn', \"isn't\", 'ma', 'mightn', \"mightn't\", 'mustn', \"mustn't\", 'needn', \"needn't\", 'shan', \"shan't\", 'shouldn', \"shouldn't\", 'wasn', \"wasn't\", 'weren', \"weren't\", 'won', \"won't\", 'wouldn', \"wouldn't\"]\n"
     ]
    }
   ],
   "source": [
    "#if error shows up because of the nltk package \n",
    "# run  \" !pip install nltk \" \n",
    "# this is to get the stopwords, so i could use it to remove them from the original text.\n",
    "\n",
    "# nltk.download('stopwords')\n",
    "# nltk.download('punkt')\n",
    "\n",
    "print(stopwords.words('english'))\n",
    "df['text']= df['text'].apply(remove_punctuation_and_stop_words)\n",
    "X = df['text']\n",
    "y = df['generated']\n",
    "#get the maxiume number of word in a sentence\n",
    "max_words = max(len(sentence.split()) for sentence in X)\n",
    "print(\"The max number of words in the sentence:\", max_words)\n",
    "print(df['text'][0])    \n"
   ]
  },
  {
   "cell_type": "code",
   "execution_count": 23,
   "id": "4b05ec62-821b-4a03-9bf0-39be09be53f2",
   "metadata": {},
   "outputs": [
    {
     "name": "stdout",
     "output_type": "stream",
     "text": [
      "Training's shape:  (341064, 979)\n",
      "Testing's shape:  (146171, 979)\n"
     ]
    }
   ],
   "source": [
    "\n",
    "# initial the Tokenizer\n",
    "tokenizer = Tokenizer()\n",
    "tokenizer.fit_on_texts(X)\n",
    "\n",
    "# padding each word a sequences number\n",
    "padded_sequence_X = pad_sequences_function(X)\n",
    "\n",
    "#split the data into x_train,x_test,y_train,y_test for model traning purporse and test.\n",
    "X_train,X_test,y_train,y_test= train_test_split(padded_sequence_X,\n",
    "                                                    y,\n",
    "                                                    test_size=0.3,\n",
    "                                                    random_state=671,\n",
    "                                                    stratify= y)\n",
    "    \n",
    "print(\"Training's shape: \", X_train.shape)\n",
    "          \n",
    "print(\"Testing's shape: \", X_test.shape)\n",
    "   "
   ]
  },
  {
   "cell_type": "code",
   "execution_count": null,
   "id": "16e2de9e-8d8a-4185-983e-3a023a513bec",
   "metadata": {},
   "outputs": [],
   "source": [
    "from tensorflow.keras.optimizers import Adam\n",
    "import keras\n",
    "vocab_size = len(tokenizer.word_index) + 1\n",
    "print(\"vocab_size:：\", vocab_size)\n",
    "\n",
    "#this is subclass like pytorch\n",
    "class LSTMClassification(tf.keras.Model):\n",
    "    def __init__(self):\n",
    "        super().__init__()\n",
    "        self.embedding = tf.keras.layers.Embedding(input_dim = vocab_size,output_dim = 125)\n",
    "        self.lstm = tf.keras.layers.Bidirectional(tf.keras.layers.LSTM(128))\n",
    "        self.dense1 = tf.keras.layers.Dense(125, activation='relu')\n",
    "        self.dense2 = tf.keras.layers.Dense(1, activation='sigmoid')\n",
    "    def call(self, inputs):\n",
    "        x = self.embedding(inputs)\n",
    "        x = self.lstm(x)\n",
    "        x = self.dense1(x)\n",
    "        x = self.dense2(x)\n",
    "        return x \n",
    "    \n",
    "lr = 0.001\n",
    "loss_function = 'binary_crossentropy'\n",
    "optimizer = Adam(learning_rate=lr)\n",
    "model = LSTMClassification()\n",
    "model.compile(optimizer= optimizer, loss=loss_function, metrics=['accuracy'])"
   ]
  },
  {
   "cell_type": "code",
   "execution_count": null,
   "id": "ab3b3e5c-c3d5-483c-ba5a-cee596874008",
   "metadata": {
    "scrolled": true
   },
   "outputs": [
    {
     "name": "stdout",
     "output_type": "stream",
     "text": [
      "Epoch 1/3\n",
      "\u001b[1m 194/3731\u001b[0m \u001b[32m━\u001b[0m\u001b[37m━━━━━━━━━━━━━━━━━━━\u001b[0m \u001b[1m2:30:51\u001b[0m 3s/step - accuracy: 0.8480 - loss: 0.3177"
     ]
    }
   ],
   "source": [
    "training_info = model.fit(X_train,y_train,epochs=3,batch_size=64, validation_split=0.3)\n"
   ]
  },
  {
   "cell_type": "code",
   "execution_count": 32,
   "id": "25ab4878-784e-4e56-b03b-6f32bf719798",
   "metadata": {
    "scrolled": true
   },
   "outputs": [
    {
     "name": "stdout",
     "output_type": "stream",
     "text": [
      "4568/4568 [==============================] - 282s 62ms/step - loss: 0.0057 - accuracy: 0.9987\n"
     ]
    }
   ],
   "source": [
    "test_loss, test_acc = model.evaluate(X_test, y_test)"
   ]
  },
  {
   "cell_type": "code",
   "execution_count": 98,
   "id": "0212a4ad-7672-42c9-bc55-777e120059f2",
   "metadata": {
    "scrolled": true
   },
   "outputs": [],
   "source": [
    "\n",
    "test_1 = '''\n",
    "Misunderstanding cultural\n",
    "\tIn the article “The Cost of Diversity in Communication: Two Camels”,  Sara and Larry, her boyfriend, go to Tunisia for  travel. During the vacation  Something happened that makes them feel sorry. A Tunisian man think Sara will become his future wife because Tunisian men danced with Sara by asking permission from Larry, so that cause misunderstandings between them.  Sara and her boyfriend could ask a Tunisian men while a Tunisian man was waiting for Sara, so that they can avoid this misunderstanding situation. \n",
    "\tAfter I read the article “The Cost of Diversity in Communication: Two Camels”, I have an experience that still remember now. Since I moved to the United States, I notice that there are many interesting customs between China and the United States. Tips is a very common thing in the United States, and it is a gratuity for the service that employer performed，but we don’t need to give ties for the customer’ s service in China. Even the service is professional and joyful for yourself，we still don’t need to give the tips for the service before we left the restaurant. I still remember an awkward thing that happened in the restaurant from the United States. That was the first time I went to the restaurant in the United States, and the waiters were happy to serve us. While my parents and I were eating dinner， they came over many times to make sure how is the service for today and they want to make sure everything is ok for us. My parents and I felt kind of weird，and we were a bit unaccustomed to this.  That was because of my country, there are not many restaurants that do that. After we finished dinner, so we pay and then we left without giving tips for the service, so they came out and said: “ Sir, you forgot to put down the tips on the plate.”  So we gave tips back to the waiters at the end. At that moment, we found out that giving tips is one of the American customs. My family and I could search for any information that is about American customs, In order to avoid the misunderstanding happen. \n",
    "Each country has different customs, We should learn and respect to their customs. So, during these past three years I’ve known many  interesting and rare customs.\n",
    "\n",
    "'''"
   ]
  },
  {
   "cell_type": "code",
   "execution_count": 99,
   "id": "e739a24a-b571-4f5a-b1c1-2152a34a7602",
   "metadata": {},
   "outputs": [
    {
     "name": "stdout",
     "output_type": "stream",
     "text": [
      "1/1 [==============================] - 0s 112ms/step\n",
      "AI generated rate:  0.23441808\n"
     ]
    }
   ],
   "source": [
    "\n",
    "def predict_new_text(new_text):\n",
    "    # new_text = remove_punctuation_and_stop_words(new_text)\n",
    "    sequences = tokenizer.texts_to_sequences([new_text])\n",
    "    padded_sequences = pad_sequences(sequences, padding='post', maxlen=max_words)\n",
    "    predictions = model.predict(padded_sequences)\n",
    "    print(\"AI generated rate: \", predictions[0][0])\n",
    "\n",
    "\n",
    "predict_new_text(test_1)\n",
    "\n",
    "\n",
    "`\n"
   ]
  },
  {
   "cell_type": "code",
   "execution_count": null,
   "id": "72e4a80e-6ad9-4faa-b9be-385bbe0dfe1b",
   "metadata": {},
   "outputs": [],
   "source": []
  },
  {
   "cell_type": "code",
   "execution_count": null,
   "id": "87062420-25c4-43ce-87c6-73e862e3c11e",
   "metadata": {},
   "outputs": [],
   "source": []
  }
 ],
 "metadata": {
  "kernelspec": {
   "display_name": "Python 3 (ipykernel)",
   "language": "python",
   "name": "python3"
  },
  "language_info": {
   "codemirror_mode": {
    "name": "ipython",
    "version": 3
   },
   "file_extension": ".py",
   "mimetype": "text/x-python",
   "name": "python",
   "nbconvert_exporter": "python",
   "pygments_lexer": "ipython3",
   "version": "3.11.7"
  }
 },
 "nbformat": 4,
 "nbformat_minor": 5
}
