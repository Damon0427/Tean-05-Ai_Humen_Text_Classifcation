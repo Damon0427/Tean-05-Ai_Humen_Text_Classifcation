{
 "cells": [
  {
   "cell_type": "markdown",
   "id": "38981ae2-b944-444f-8fd2-54a20cc56cfb",
   "metadata": {
    "jp-MarkdownHeadingCollapsed": true
   },
   "source": [
    "### Course: CSC671-02 \n",
    "#### Team Number：05\n",
    "#### Members:\n",
    "##### Jung Hyun Song \n",
    "##### Jeremy Woodling\n",
    "##### Zicheng Tan \n",
    "---"
   ]
  },
  {
   "cell_type": "markdown",
   "id": "e3e07054-4462-49f7-a522-4e183fc6abcb",
   "metadata": {},
   "source": [
    "## Some Important Library"
   ]
  },
  {
   "cell_type": "code",
   "execution_count": 1,
   "id": "8b8547ab-0bcd-45b4-b0e8-84eb462fbbc9",
   "metadata": {},
   "outputs": [],
   "source": [
    "import pandas as pd\n",
    "import string\n",
    "import tensorflow as tf\n",
    "from sklearn.model_selection import train_test_split\n",
    "from tensorflow.keras.preprocessing.text import Tokenizer\n",
    "from tensorflow.keras.preprocessing.sequence import pad_sequences\n",
    "from tensorflow.keras.models import Sequential\n",
    "from tensorflow.keras.layers import Embedding, LSTM, Dense\n",
    "from tensorflow.keras.optimizers import Adam\n",
    "import matplotlib.pyplot as plt\n",
    "import nltk\n",
    "from nltk.corpus import stopwords\n",
    "from nltk.tokenize import word_tokenize"
   ]
  },
  {
   "cell_type": "code",
   "execution_count": 2,
   "id": "225274f3-d27e-4f51-8e8c-e94160ed82b4",
   "metadata": {
    "scrolled": true
   },
   "outputs": [
    {
     "name": "stdout",
     "output_type": "stream",
     "text": [
      "Cars. Cars have been around since they became famous in the 1900s, when Henry Ford created and built the first ModelT. Cars have played a major role in our every day lives since then. But now, people are starting to question if limiting car usage would be a good thing. To me, limiting the use of cars might be a good thing to do.\n",
      "\n",
      "In like matter of this, article, \"In German Suburb, Life Goes On Without Cars,\" by Elizabeth Rosenthal states, how automobiles are the linchpin of suburbs, where middle class families from either Shanghai or Chicago tend to make their homes. Experts say how this is a huge impediment to current efforts to reduce greenhouse gas emissions from tailpipe. Passenger cars are responsible for 12 percent of greenhouse gas emissions in Europe...and up to 50 percent in some carintensive areas in the United States. Cars are the main reason for the greenhouse gas emissions because of a lot of people driving them around all the time getting where they need to go. Article, \"Paris bans driving due to smog,\" by Robert Duffer says, how Paris, after days of nearrecord pollution, enforced a partial driving ban to clear the air of the global city. It also says, how on Monday, motorist with evennumbered license plates were ordered to leave their cars at home or be fined a 22euro fine 31. The same order would be applied to oddnumbered plates the following day. Cars are the reason for polluting entire cities like Paris. This shows how bad cars can be because, of all the pollution that they can cause to an entire city.\n",
      "\n",
      "Likewise, in the article, \"Carfree day is spinning into a big hit in Bogota,\" by Andrew Selsky says, how programs that's set to spread to other countries, millions of Columbians hiked, biked, skated, or took the bus to work during a carfree day, leaving streets of this capital city eerily devoid of traffic jams. It was the third straight year cars have been banned with only buses and taxis permitted for the Day Without Cars in the capital city of 7 million. People like the idea of having carfree days because, it allows them to lesson the pollution that cars put out of their exhaust from people driving all the time. The article also tells how parks and sports centers have bustled throughout the city uneven, pitted sidewalks have been replaced by broad, smooth sidewalks rushhour restrictions have dramatically cut traffic and new restaurants and upscale shopping districts have cropped up. Having no cars has been good for the country of Columbia because, it has aloud them to repair things that have needed repairs for a long time, traffic jams have gone down, and restaurants and shopping districts have popped up, all due to the fact of having less cars around.\n",
      "\n",
      "In conclusion, the use of less cars and having carfree days, have had a big impact on the environment of cities because, it is cutting down the air pollution that the cars have majorly polluted, it has aloud countries like Columbia to repair sidewalks, and cut down traffic jams. Limiting the use of cars would be a good thing for America. So we should limit the use of cars by maybe riding a bike, or maybe walking somewhere that isn't that far from you and doesn't need the use of a car to get you there. To me, limiting the use of cars might be a good thing to do.\n",
      "generated\n",
      "0.0    305797\n",
      "1.0    181438\n",
      "Name: count, dtype: int64\n"
     ]
    },
    {
     "data": {
      "text/plain": [
       "<Axes: >"
      ]
     },
     "execution_count": 2,
     "metadata": {},
     "output_type": "execute_result"
    },
    {
     "data": {
      "image/png": "[encoded data removed]",
      "text/plain": [
       "<Figure size 640x480 with 1 Axes>"
      ]
     },
     "metadata": {},
     "output_type": "display_data"
    }
   ],
   "source": [
    "df = pd.read_csv('./AI_Human.csv')\n",
    "# Print out the first essay for comparison purposes\n",
    "print(df['text'][0])    \n",
    "print(df['generated'].value_counts())\n",
    "df['generated'].hist()"
   ]
  },
  {
   "cell_type": "code",
   "execution_count": 3,
   "id": "9f51f2d0-ac8e-4343-8437-06e174024cfc",
   "metadata": {},
   "outputs": [],
   "source": [
    "## These Function use to phase the text and padding sequences number from text\n",
    "## Removing the punctuation and stop words could Improve efficiency of the model and enhance algorithm performance\n",
    "def remove_punctuation_and_stop_words(text):\n",
    "    cleaned_text = str.maketrans('', '', string.punctuation)\n",
    "    text = text.translate(cleaned_text)\n",
    "    stop_words = set(stopwords.words('english'))\n",
    "    word_tokens = word_tokenize(text)\n",
    "    filtered_words = [word for word in word_tokens if word.lower() not in stop_words]  \n",
    "    filtered_words= ' '.join(filtered_words)\n",
    "    return filtered_words\n",
    "\n",
    "## Tranform the text into a sequences number that the model could understand and process=\n",
    "def pad_sequences_function(text):\n",
    "    sequences = tokenizer.texts_to_sequences(text)\n",
    "    output = pad_sequences(sequences, padding='post', maxlen = max_words)\n",
    "    return output\n",
    "\n",
    "def format_the_output(results):\n",
    "    return [1 if output >= 0.5 else 0 for output in results]\n",
    "\n",
    "def get_the_Accuracy(X,y):\n",
    "    n= len(X)\n",
    "    accuracy = (y == X).sum() / n\n",
    "    return accuracy\n"
   ]
  },
  {
   "cell_type": "code",
   "execution_count": 4,
   "id": "ef96d038-cbfc-4c1b-ba4e-ff81449fd948",
   "metadata": {
    "scrolled": true
   },
   "outputs": [
    {
     "name": "stdout",
     "output_type": "stream",
     "text": [
      "['i', 'me', 'my', 'myself', 'we', 'our', 'ours', 'ourselves', 'you', \"you're\", \"you've\", \"you'll\", \"you'd\", 'your', 'yours', 'yourself', 'yourselves', 'he', 'him', 'his', 'himself', 'she', \"she's\", 'her', 'hers', 'herself', 'it', \"it's\", 'its', 'itself', 'they', 'them', 'their', 'theirs', 'themselves', 'what', 'which', 'who', 'whom', 'this', 'that', \"that'll\", 'these', 'those', 'am', 'is', 'are', 'was', 'were', 'be', 'been', 'being', 'have', 'has', 'had', 'having', 'do', 'does', 'did', 'doing', 'a', 'an', 'the', 'and', 'but', 'if', 'or', 'because', 'as', 'until', 'while', 'of', 'at', 'by', 'for', 'with', 'about', 'against', 'between', 'into', 'through', 'during', 'before', 'after', 'above', 'below', 'to', 'from', 'up', 'down', 'in', 'out', 'on', 'off', 'over', 'under', 'again', 'further', 'then', 'once', 'here', 'there', 'when', 'where', 'why', 'how', 'all', 'any', 'both', 'each', 'few', 'more', 'most', 'other', 'some', 'such', 'no', 'nor', 'not', 'only', 'own', 'same', 'so', 'than', 'too', 'very', 's', 't', 'can', 'will', 'just', 'don', \"don't\", 'should', \"should've\", 'now', 'd', 'll', 'm', 'o', 're', 've', 'y', 'ain', 'aren', \"aren't\", 'couldn', \"couldn't\", 'didn', \"didn't\", 'doesn', \"doesn't\", 'hadn', \"hadn't\", 'hasn', \"hasn't\", 'haven', \"haven't\", 'isn', \"isn't\", 'ma', 'mightn', \"mightn't\", 'mustn', \"mustn't\", 'needn', \"needn't\", 'shan', \"shan't\", 'shouldn', \"shouldn't\", 'wasn', \"wasn't\", 'weren', \"weren't\", 'won', \"won't\", 'wouldn', \"wouldn't\"]\n",
      "The max number of words in the sentence: 979\n",
      "Cars Cars around since became famous 1900s Henry Ford created built first ModelT Cars played major role every day lives since people starting question limiting car usage would good thing limiting use cars might good thing like matter article German Suburb Life Goes Without Cars Elizabeth Rosenthal states automobiles linchpin suburbs middle class families either Shanghai Chicago tend make homes Experts say huge impediment current efforts reduce greenhouse gas emissions tailpipe Passenger cars responsible 12 percent greenhouse gas emissions Europeand 50 percent carintensive areas United States Cars main reason greenhouse gas emissions lot people driving around time getting need go Article Paris bans driving due smog Robert Duffer says Paris days nearrecord pollution enforced partial driving ban clear air global city also says Monday motorist evennumbered license plates ordered leave cars home fined 22euro fine 31 order would applied oddnumbered plates following day Cars reason polluting entire cities like Paris shows bad cars pollution cause entire city Likewise article Carfree day spinning big hit Bogota Andrew Selsky says programs thats set spread countries millions Columbians hiked biked skated took bus work carfree day leaving streets capital city eerily devoid traffic jams third straight year cars banned buses taxis permitted Day Without Cars capital city 7 million People like idea carfree days allows lesson pollution cars put exhaust people driving time article also tells parks sports centers bustled throughout city uneven pitted sidewalks replaced broad smooth sidewalks rushhour restrictions dramatically cut traffic new restaurants upscale shopping districts cropped cars good country Columbia aloud repair things needed repairs long time traffic jams gone restaurants shopping districts popped due fact less cars around conclusion use less cars carfree days big impact environment cities cutting air pollution cars majorly polluted aloud countries like Columbia repair sidewalks cut traffic jams Limiting use cars would good thing America limit use cars maybe riding bike maybe walking somewhere isnt far doesnt need use car get limiting use cars might good thing\n"
     ]
    }
   ],
   "source": [
    "#if error shows up because of the nltk package \n",
    "# run  \" !pip install nltk \" \n",
    "# this is to get the stopwords, so i could use it to remove them from the original text.\n",
    "\n",
    "# nltk.download('stopwords')\n",
    "# nltk.download('punkt')\n",
    "\n",
    "print(stopwords.words('english'))\n",
    "df['text']= df['text'].apply(remove_punctuation_and_stop_words)\n",
    "X = df['text']\n",
    "y = df['generated']\n",
    "\n",
    "#get the maxiume number of word in a sentence for \n",
    "max_words = max(len(sentence.split()) for sentence in X)\n",
    "print(\"The max number of words in the sentence:\", max_words)\n",
    "print(df['text'][0])    \n"
   ]
  },
  {
   "cell_type": "code",
   "execution_count": 5,
   "id": "4b05ec62-821b-4a03-9bf0-39be09be53f2",
   "metadata": {},
   "outputs": [
    {
     "name": "stdout",
     "output_type": "stream",
     "text": [
      "Training's shape:  (341064, 979)\n",
      "Testing's shape:  (146171, 979)\n"
     ]
    }
   ],
   "source": [
    "\n",
    "# initial the Tokenizer\n",
    "tokenizer = Tokenizer()\n",
    "tokenizer.fit_on_texts(X)\n",
    "padded_sequence = pad_sequences_function(X)\n",
    "\n",
    "#split the data into x_train,x_test,y_train,y_test for model traning purporse and test.\n",
    "X_train,X_test,y_train,y_test= train_test_split(padded_sequence,\n",
    "                                                    y,\n",
    "                                                    test_size=0.3,\n",
    "                                                    random_state=671,\n",
    "                                                    stratify= y)\n",
    "    \n",
    "print(\"Training's shape: \", X_train.shape)\n",
    "          \n",
    "print(\"Testing's shape: \", X_test.shape)\n",
    "   "
   ]
  },
  {
   "cell_type": "code",
   "execution_count": 36,
   "id": "16e2de9e-8d8a-4185-983e-3a023a513bec",
   "metadata": {},
   "outputs": [
    {
     "name": "stdout",
     "output_type": "stream",
     "text": [
      "vocab_size:： 299048\n"
     ]
    }
   ],
   "source": [
    "from tensorflow.keras.optimizers import Adam\n",
    "import keras\n",
    "vocab_size = len(tokenizer.word_index) + 1\n",
    "print(\"vocab_size:：\", vocab_size)\n",
    "\n",
    "#this is subclass like pytorch\n",
    "class LSTMClassification(tf.keras.Model):\n",
    "    def __init__(self):\n",
    "        super().__init__()\n",
    "        self.embedding = tf.keras.layers.Embedding(input_dim = vocab_size,output_dim = 200)\n",
    "        self.lstm = tf.keras.layers.Bidirectional(tf.keras.layers.LSTM(128))\n",
    "        self.dense_1 = tf.keras.layers.Dense(125, activation='relu')\n",
    "        # DropoutT layer could prevcent the overfitting issue \n",
    "        self.dropout = tf.keras.layers.Dropout(0.4)\n",
    "        self.dense_2 = tf.keras.layers.Dense(1, activation='sigmoid')\n",
    "    def call(self, inputs):\n",
    "        x = self.embedding(inputs)\n",
    "        x = self.lstm(x)\n",
    "        x = self.dense_1(x)\n",
    "        x = self.dropout(x)\n",
    "        x = self.dense_2(x)\n",
    "        return x \n",
    "    \n",
    "lr = 0.001\n",
    "loss_function = 'binary_crossentropy'\n",
    "optimizer = Adam(learning_rate=lr)\n",
    "model = LSTMClassification()\n",
    "model.compile(optimizer= optimizer, loss=loss_function, metrics=['accuracy'])\n",
    "\n",
    "from tensorflow.keras.callbacks import EarlyStopping\n",
    "#  prevent overfitting issue, since the dataset is 500k essay. and making a callback object to \n",
    "#  monitor the val_loss while traning, if there is no imporvement on the val_loss, the traning will stop,\n",
    "#  to the best weights, and restore the model .\n",
    "\n",
    "early_stopping = EarlyStopping(\n",
    "    monitor='val_loss',\n",
    "    min_delta=0.001,\n",
    "    patience=1,\n",
    "    verbose=1,\n",
    "    mode='min',\n",
    "    restore_best_weights=True\n",
    ")"
   ]
  },
  {
   "cell_type": "code",
   "execution_count": 37,
   "id": "ab3b3e5c-c3d5-483c-ba5a-cee596874008",
   "metadata": {
    "scrolled": true
   },
   "outputs": [
    {
     "name": "stdout",
     "output_type": "stream",
     "text": [
      "Epoch 1/3\n",
      "933/933 [==============================] - 349s 371ms/step - loss: 0.0466 - accuracy: 0.9841 - val_loss: 0.0500 - val_accuracy: 0.9823\n",
      "Epoch 2/3\n",
      "933/933 [==============================] - 434s 465ms/step - loss: 0.0185 - accuracy: 0.9948 - val_loss: 0.0107 - val_accuracy: 0.9973\n",
      "Epoch 3/3\n",
      "933/933 [==============================] - 431s 462ms/step - loss: 0.0063 - accuracy: 0.9983 - val_loss: 0.0086 - val_accuracy: 0.9973\n"
     ]
    }
   ],
   "source": [
    "training_info = model.fit(X_train,y_train,epochs= 3,batch_size=256, validation_split=0.3,callbacks=[early_stopping])\n"
   ]
  },
  {
   "cell_type": "code",
   "execution_count": 42,
   "id": "25ab4878-784e-4e56-b03b-6f32bf719798",
   "metadata": {
    "scrolled": true
   },
   "outputs": [
    {
     "name": "stdout",
     "output_type": "stream",
     "text": [
      "2284/2284 [==============================] - 146s 64ms/step - loss: 0.0090 - accuracy: 0.9972\n"
     ]
    }
   ],
   "source": [
    "test_loss, test_acc = model.evaluate(X_test, y_test, batch_size=64)"
   ]
  },
  {
   "cell_type": "code",
   "execution_count": 43,
   "id": "e081d600-e5eb-4ce4-9ec2-ecc5312656b1",
   "metadata": {},
   "outputs": [
    {
     "name": "stdout",
     "output_type": "stream",
     "text": [
      "The lose of model is :  0.008986989967525005 The accuracu of model is:  0.9972224235534668\n"
     ]
    }
   ],
   "source": [
    "print(\"The lose of model is : \", test_loss,\"The accuracu of model is: \", test_acc)"
   ]
  },
  {
   "cell_type": "code",
   "execution_count": 47,
   "id": "0212a4ad-7672-42c9-bc55-777e120059f2",
   "metadata": {
    "scrolled": true
   },
   "outputs": [],
   "source": [
    "\n",
    "humen_test = '''\n",
    "From my perspitive,  the government shouldn’t create a database of all college students to help to track Biden loans. There are many reasons why the government shouldn’t collect our personal information. As a college student, I clearly know how important personal information is. Our personal information represents yourself, it could be used to apply load or apply for some program from an unauthorized company.  There is a  primary reason why the government shouldn’t create a database of all college students. It is our personal privacy. If we actually apply for a Biden loan, Of course, the government could have access to my personal information, but there are some of the college students who didn’t apply for the Biden loan, therefore the government shouldn’t create a database for them to track the Biden loan. Also, based on the general government database, I believe that it stores our personla general information , credit score, SSN, and Identification number.NSA has violated our personal privacy, they spray us through every phone call and the message for so long. Even Though, the potential of this operation is to prevent the terriost attacks, NSA is still violated our personal privacy, which is also influenced the symbol of this country, ”Freedom”. I believe many of us think that America is a free country, It is also one of the main reasons that bring us here in this country. The rule we trust is to protect our privacy, If the goverment create a database for all college student, this I believe it is a violation of our privacy. Maybe subconsciously, this behavior is correct to them, but from what I think, It’s not. We don’t know what kind of information that they will store or record, our privacy is sensitive and protected by the law of this country. On the other hand, If the government created a database of all college students, the government is also involved with our college students. They did that without our permission. Based on the free will, there are some people who may not decide to apply for a Biden loan. If the action they make, have completely against our free will. Isn't that a bit of a contradiction? I believe It is. Also, If I could do some about this situation, I will definitly do some research to gain more information, and garthering them to make a website for people who really interested about personal privacy.  The purpose of my movement is to spread the information to other people, and give them what information we need to protect, how to protect them, and what are the consequences that If our sensitive information leaks.  This could gives us many experience about this spefic knowledge, may the society or the comunity will have more attention on this problem.\n",
    "\n",
    "'''\n",
    "\n",
    "Ai_test = ''' \n",
    "When we discuss the key elements of success, many people might initially think of talent, opportunity, or wealth. However, the countless stories of successful individuals often highlight a less glamorous, but equally crucial ingredient: perseverance. This essay explores why perseverance is often the defining factor in achieving lasting success.\n",
    "\n",
    "Perseverance, simply put, is the ability to keep doing something in spite of obstacles. It means pressing forward when the situation becomes challenging and continuing to strive in the face of setbacks. Unlike talent, which is often innate, or wealth, which is frequently circumstantial, perseverance is a choice that is available to anyone, regardless of their starting point in life.\n",
    "\n",
    "Consider the story of J.K. Rowling, who faced numerous rejections before \"Harry Potter\" became a global phenomenon. It was not merely her talent as a writer that secured her success; it was her refusal to give up in the face of repeated disappointments. Her story is a powerful testament to the fact that perseverance can often outweigh other advantages, such as initial recognition or financial backing.\n",
    "\n",
    "Similarly, consider the realm of technology and business. Steve Jobs, co-founder of Apple, was once ousted from the company he helped to create. Yet, his unyielding commitment to his vision and his relentless work ethic eventually brought him back to Apple, where he revolutionized the global technology landscape. His journey underscores the truth that perseverance, coupled with a clear vision, can lead to revolutionary changes and monumental success.\n",
    "\n",
    "In the academic field, perseverance plays an equally pivotal role. For every scientific breakthrough and innovation, there is often a backstory of numerous failed experiments and hypotheses. Researchers and academics who make significant contributions are those who persist through failure, who use setbacks as stepping stones, and who remain committed to their inquiry even when immediate results seem elusive.\n",
    "\n",
    "Moreover, perseverance is not only about achieving personal success; it's about contributing to society at large. Individuals who persevere in their efforts—whether they are educators, healthcare workers, activists, or entrepreneurs—often drive social and cultural progress. Their steadfast dedication helps to bring about change and improvement in various aspects of life, affecting many people beyond themselves.\n",
    "\n",
    "In conclusion, while talent and opportunity are undoubtedly valuable, perseverance is the key that unlocks potential and drives individuals to achieve and exceed beyond the bounds of their initial circumstances. It is a universally accessible quality that can define a person's journey from mediocrity to excellence. As such, cultivating perseverance is perhaps one of the most important pursuits for anyone seeking to make a significant impact in their field or the world at large.\n",
    "'''"
   ]
  },
  {
   "cell_type": "code",
   "execution_count": 48,
   "id": "e739a24a-b571-4f5a-b1c1-2152a34a7602",
   "metadata": {},
   "outputs": [
    {
     "name": "stdout",
     "output_type": "stream",
     "text": [
      "1/1 [==============================] - 0s 150ms/step\n",
      "AI generated rate:  0\n",
      "AI generated rate:  0.0037888072\n",
      "1/1 [==============================] - 0s 58ms/step\n",
      "AI generated rate:  1\n",
      "AI generated rate:  0.9999968\n"
     ]
    }
   ],
   "source": [
    "\n",
    "def predict_new_text(new_text):\n",
    "    # new_text = remove_punctuation_and_stop_words(new_text)\n",
    "    generated_rate = 0\n",
    "    sequences = tokenizer.texts_to_sequences([new_text])\n",
    "    padded_sequences = pad_sequences(sequences, padding='post', maxlen=max_words)\n",
    "    predictions = model.predict(padded_sequences)\n",
    "    if predictions[0][0] > 0.5:\n",
    "        generated_rate = 1\n",
    "\n",
    "    \n",
    "    print(\"AI generated rate: \", generated_rate)\n",
    "    print(\"AI generated rate: \", predictions[0][0])\n",
    "\n",
    "\n",
    "predict_new_text(humen_test)\n",
    "predict_new_text(Ai_test)\n",
    "\n",
    "\n",
    "\n"
   ]
  },
  {
   "cell_type": "code",
   "execution_count": null,
   "id": "72e4a80e-6ad9-4faa-b9be-385bbe0dfe1b",
   "metadata": {},
   "outputs": [],
   "source": []
  },
  {
   "cell_type": "code",
   "execution_count": null,
   "id": "87062420-25c4-43ce-87c6-73e862e3c11e",
   "metadata": {},
   "outputs": [],
   "source": []
  }
 ],
 "metadata": {
  "kernelspec": {
   "display_name": "Python 3 (ipykernel)",
   "language": "python",
   "name": "python3"
  },
  "language_info": {
   "codemirror_mode": {
    "name": "ipython",
    "version": 3
   },
   "file_extension": ".py",
   "mimetype": "text/x-python",
   "name": "python",
   "nbconvert_exporter": "python",
   "pygments_lexer": "ipython3",
   "version": "3.9.19"
  }
 },
 "nbformat": 4,
 "nbformat_minor": 5
}
